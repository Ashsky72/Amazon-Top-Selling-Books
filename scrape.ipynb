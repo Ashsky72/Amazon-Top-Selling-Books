{
 "cells": [
  {
   "cell_type": "markdown",
   "id": "c9e0e404",
   "metadata": {
    "slideshow": {
     "slide_type": "slide"
    }
   },
   "source": [
    "## Introduction\n",
    "In this notebook, we'll web scrape the top 50 bestselling books on Amazon.in, the world's biggest bookstore Amazon which has more than 48.5 million books available on its website.\n",
    "\n",
    "The tools we are going to use to web scrape Amazon.in in are:\n",
    "- **Python**- To write down our code in Python language.\n",
    "- **Requests**- To fetch and interact with the web page.\n",
    "- **BeautifulSoup**- To parse and extract data from the web page.\n",
    "- **Pandas**- To interact with data which is extracted using the BeautifulSoup and convert the data into the csv."
   ]
  },
  {
   "cell_type": "markdown",
   "id": "15311c74",
   "metadata": {
    "slideshow": {
     "slide_type": "slide"
    }
   },
   "source": [
    "## Steps"
   ]
  },
  {
   "cell_type": "markdown",
   "id": "cdd288e2",
   "metadata": {
    "slideshow": {
     "slide_type": "slide"
    }
   },
   "source": [
    "So,we are going to scrape the page `https://www.amazon.in/gp/bestsellers/books/` and will grab the books details.\n",
    "\n",
    "The steps we will follow:\n",
    "1. Import the necessary libraries.\n",
    "2. Fetch the `https://www.amazon.in/gp/bestsellers/books/` using the requests library.\n",
    "3. We'll parse and extract the information using the BeautifulSoup.\n",
    "4. Finally, we'll convert the data extracted to a pandas dataframe."
   ]
  },
  {
   "cell_type": "markdown",
   "id": "80e522c9",
   "metadata": {},
   "source": [
    "## Importing the necessary libraries"
   ]
  },
  {
   "cell_type": "code",
   "execution_count": 1,
   "id": "5b3b93f2",
   "metadata": {},
   "outputs": [],
   "source": [
    "import requests\n",
    "from bs4 import BeautifulSoup\n",
    "import pandas as pd"
   ]
  },
  {
   "cell_type": "markdown",
   "id": "3f00c628",
   "metadata": {},
   "source": [
    "## Fetching the web page"
   ]
  },
  {
   "cell_type": "code",
   "execution_count": 2,
   "id": "d1c34b12",
   "metadata": {},
   "outputs": [],
   "source": [
    "# Target url\n",
    "url = 'https://www.amazon.in/gp/bestsellers/books'\n",
    "\n",
    "# Using a request library to fetch the url\n",
    "response = requests.get(url)"
   ]
  },
  {
   "cell_type": "code",
   "execution_count": 3,
   "id": "fe533309",
   "metadata": {},
   "outputs": [
    {
     "data": {
      "text/plain": [
       "200"
      ]
     },
     "execution_count": 3,
     "metadata": {},
     "output_type": "execute_result"
    }
   ],
   "source": [
    "# Checking the response status\n",
    "response.status_code"
   ]
  },
  {
   "cell_type": "markdown",
   "id": "bf1cde22",
   "metadata": {},
   "source": [
    "Status code `200` shows that the request for fetching the web page is successful and we can proceed further to extract the information from the web page."
   ]
  },
  {
   "cell_type": "markdown",
   "id": "30c18153",
   "metadata": {},
   "source": [
    "## Parsing and extracting the information "
   ]
  },
  {
   "cell_type": "markdown",
   "id": "6db2dd09",
   "metadata": {},
   "source": [
    "We cannot use `reponse.text` to extract any information. So, we'll create the BeautifulSoup object by passing the content from the fetched page as response.text to html parser which will convert the text to a html format."
   ]
  },
  {
   "cell_type": "code",
   "execution_count": 4,
   "id": "b96452c7",
   "metadata": {},
   "outputs": [],
   "source": [
    "doc = BeautifulSoup(response.text, 'html.parser')"
   ]
  },
  {
   "cell_type": "code",
   "execution_count": 5,
   "id": "d842fe10",
   "metadata": {},
   "outputs": [
    {
     "data": {
      "text/plain": [
       "bs4.BeautifulSoup"
      ]
     },
     "execution_count": 5,
     "metadata": {},
     "output_type": "execute_result"
    }
   ],
   "source": [
    "type(doc)"
   ]
  },
  {
   "cell_type": "markdown",
   "id": "f3ef96af",
   "metadata": {},
   "source": [
    "We are ready to extract the books information from the amazon page. Let's start by pressing right click on the first book and select `inspect`.\n",
    "\n",
    "We know that the book details we want to scrap are available under the `div_tag` with `class = zg-grid-general-faceout`. Let's use this information to grab the details about top 50 selling books."
   ]
  },
  {
   "cell_type": "code",
   "execution_count": 6,
   "id": "953c112b",
   "metadata": {},
   "outputs": [],
   "source": [
    "div_selection_class ='zg-grid-general-faceout'\n",
    "div_tags = doc.find_all('div', class_ = div_selection_class)"
   ]
  },
  {
   "cell_type": "code",
   "execution_count": 7,
   "id": "3e9df660",
   "metadata": {},
   "outputs": [
    {
     "data": {
      "text/plain": [
       "50"
      ]
     },
     "execution_count": 7,
     "metadata": {},
     "output_type": "execute_result"
    }
   ],
   "source": [
    "#check the number of div tags that are fetched.\n",
    "len(div_tags)"
   ]
  },
  {
   "cell_type": "markdown",
   "id": "17c4003f",
   "metadata": {},
   "source": [
    "We got the 50 tags, Let's check the second div tag beacuse first tag has insufficent information."
   ]
  },
  {
   "cell_type": "code",
   "execution_count": 8,
   "id": "da7299b0",
   "metadata": {},
   "outputs": [
    {
     "data": {
      "text/plain": [
       "<div class=\"zg-grid-general-faceout\"><div><a class=\"a-link-normal\" href=\"/Atomic-Habits-James-Clear/dp/1847941834/ref=zg_bs_books_2/000-0000000-0000000?pd_rd_i=1847941834&amp;psc=1\" role=\"link\" tabindex=\"-1\"><div class=\"a-section a-spacing-mini _p13n-zg-list-grid-desktop_maskStyle_noop__3Xbw5\"><img alt=\"Atomic Habits: The life-changing million copy bestseller\" class=\"a-dynamic-image p13n-sc-dynamic-image p13n-product-image\" data-a-dynamic-image='{\"https://images-eu.ssl-images-amazon.com/images/I/51S7KOWir7L._AC_UL302_SR302,200_.jpg\":[302,200],\"https://images-eu.ssl-images-amazon.com/images/I/51S7KOWir7L._AC_UL604_SR604,400_.jpg\":[604,400],\"https://images-eu.ssl-images-amazon.com/images/I/51S7KOWir7L._AC_UL906_SR906,600_.jpg\":[906,600]}' height=\"200px\" src=\"https://images-eu.ssl-images-amazon.com/images/I/51S7KOWir7L._AC_UL302_SR302,200_.jpg\" style=\"max-width:302px;max-height:200px\"/></div></a><a class=\"a-link-normal\" href=\"/Atomic-Habits-James-Clear/dp/1847941834/ref=zg_bs_books_2/000-0000000-0000000?pd_rd_i=1847941834&amp;psc=1\" role=\"link\"><span><div class=\"_p13n-zg-list-grid-desktop_truncationStyles_p13n-sc-css-line-clamp-1__1Fn1y\">Atomic Habits: The life-changing million copy bestseller</div></span></a><div class=\"a-row a-size-small\"><a class=\"a-size-small a-link-child\" href=\"/James-Clear/e/B07DJTJC3X/ref=zg_bs_books_bl_2/000-0000000-0000000?pd_rd_i=1847941834\"><div class=\"_p13n-zg-list-grid-desktop_truncationStyles_p13n-sc-css-line-clamp-1__1Fn1y\">James Clear</div></a></div><div class=\"a-row\"><div class=\"a-icon-row\"><a class=\"a-link-normal\" href=\"/product-reviews/1847941834/ref=zg_bs_books_cr_2/000-0000000-0000000?pd_rd_i=1847941834\" title=\"4.6 out of 5 stars\"><i class=\"a-icon a-icon-star-small a-star-small-4-5 aok-align-top\"><span class=\"a-icon-alt\">4.6 out of 5 stars</span></i> <span class=\"a-size-small\">38,185</span></a></div></div><div class=\"a-row a-size-small\"><span class=\"a-size-small a-color-secondary a-text-normal\">Paperback</span></div><div class=\"a-row\"><a class=\"a-link-normal\" href=\"/Atomic-Habits-James-Clear/dp/1847941834/ref=zg_bs_books_2/000-0000000-0000000?pd_rd_i=1847941834&amp;psc=1\" role=\"link\"><span class=\"a-color-secondary\">2 offers from <span class=\"a-size-base\"><span class=\"p13n-sc-price\">₹593.00</span></span></span></a></div></div></div>"
      ]
     },
     "execution_count": 8,
     "metadata": {},
     "output_type": "execute_result"
    }
   ],
   "source": [
    "div_tags[1]"
   ]
  },
  {
   "cell_type": "markdown",
   "id": "43f710a1",
   "metadata": {},
   "source": [
    "As we can see `div_tags[1]` has lot information which is difficult to understand. So, let's go back to our web page and `inspect` on the element individually that we want to grab."
   ]
  },
  {
   "cell_type": "code",
   "execution_count": 9,
   "id": "6d5f820e",
   "metadata": {},
   "outputs": [
    {
     "data": {
      "text/plain": [
       "'Atomic Habits: The life-changing million copy bestseller'"
      ]
     },
     "execution_count": 9,
     "metadata": {},
     "output_type": "execute_result"
    }
   ],
   "source": [
    "#Book Name\n",
    "div_tags[1].find('span').text"
   ]
  },
  {
   "cell_type": "code",
   "execution_count": 10,
   "id": "47b350ed",
   "metadata": {},
   "outputs": [
    {
     "data": {
      "text/plain": [
       "'James Clear'"
      ]
     },
     "execution_count": 10,
     "metadata": {},
     "output_type": "execute_result"
    }
   ],
   "source": [
    "#Author Name\n",
    "a_selection_tag = 'a-size-small a-link-child'\n",
    "div_tags[1].find('a', class_ = a_selection_tag).text"
   ]
  },
  {
   "cell_type": "code",
   "execution_count": 11,
   "id": "dae2bebb",
   "metadata": {},
   "outputs": [
    {
     "data": {
      "text/plain": [
       "'https://amazon.in/Atomic-Habits-James-Clear/dp/1847941834/ref=zg_bs_books_2/000-0000000-0000000?pd_rd_i=1847941834&psc=1'"
      ]
     },
     "execution_count": 11,
     "metadata": {},
     "output_type": "execute_result"
    }
   ],
   "source": [
    "# Book Url\n",
    "a_selection_tag = 'a-link-normal'\n",
    "div_tags[1].find('a', class_ = a_selection_tag)['href']\n",
    "\n",
    "# Book Url with a complete working link\n",
    "base_url = 'https://amazon.in'\n",
    "base_url + div_tags[1].find('a', class_ = a_selection_tag)['href']"
   ]
  },
  {
   "cell_type": "code",
   "execution_count": 12,
   "id": "1a1bf35f",
   "metadata": {},
   "outputs": [
    {
     "data": {
      "text/plain": [
       "'4.6 out of 5 stars'"
      ]
     },
     "execution_count": 12,
     "metadata": {},
     "output_type": "execute_result"
    }
   ],
   "source": [
    "# Number of star ratings\n",
    "span_selection_class = 'a-icon-alt'\n",
    "div_tags[1].find('span', class_ = span_selection_class).text"
   ]
  },
  {
   "cell_type": "code",
   "execution_count": 13,
   "id": "d65c0395",
   "metadata": {},
   "outputs": [
    {
     "data": {
      "text/plain": [
       "'38,185'"
      ]
     },
     "execution_count": 13,
     "metadata": {},
     "output_type": "execute_result"
    }
   ],
   "source": [
    "# Number of ratings\n",
    "span_selection_class = 'a-size-small'\n",
    "div_tags[1].find('span', class_ = span_selection_class).text"
   ]
  },
  {
   "cell_type": "code",
   "execution_count": 14,
   "id": "0c4c838e",
   "metadata": {},
   "outputs": [
    {
     "data": {
      "text/plain": [
       "'Paperback'"
      ]
     },
     "execution_count": 14,
     "metadata": {},
     "output_type": "execute_result"
    }
   ],
   "source": [
    "# Book Type\n",
    "span_selection_class = 'a-size-small a-color-secondary a-text-normal'\n",
    "div_tags[1].find('span', class_ = span_selection_class).text"
   ]
  },
  {
   "cell_type": "code",
   "execution_count": 15,
   "id": "6dceb046",
   "metadata": {},
   "outputs": [
    {
     "data": {
      "text/plain": [
       "'₹593.00'"
      ]
     },
     "execution_count": 15,
     "metadata": {},
     "output_type": "execute_result"
    }
   ],
   "source": [
    "# Book Price\n",
    "span_selection_class = 'p13n-sc-price'\n",
    "div_tags[1].find('span', class_ = span_selection_class).text"
   ]
  },
  {
   "cell_type": "markdown",
   "id": "433d7ede",
   "metadata": {},
   "source": [
    "We got all the attributes we wanted to create a dataset of the top 50 bestselling books. Now let's create a function which will grab the all attributes which are required for our dataset."
   ]
  },
  {
   "cell_type": "code",
   "execution_count": 16,
   "id": "e689a10b",
   "metadata": {},
   "outputs": [],
   "source": [
    "def books_info(div_tags):\n",
    "    # Tag for the Book Name\n",
    "    Book_Name_tags = div_tags.find('span')\n",
    "    \n",
    "    # Tag for the Author's Name\n",
    "    Author_Name_tags = div_tags.find(['a', 'span'], class_ = ['a-size-small a-link-child', 'a-size-small a-color-base'])\n",
    "    \n",
    "    # Book URL\n",
    "    Book_URL = 'https://amazon.in' + div_tags.find('a', class_ = 'a-link-normal')['href']\n",
    "    \n",
    "    # Tag for the Book Type\n",
    "    Book_Type_tags = div_tags.find('span', class_ = 'a-size-small a-color-secondary a-text-normal')\n",
    "    \n",
    "    # Tag for Book Price\n",
    "    Price_tags = div_tags.find('span', class_ = 'p13n-sc-price')\n",
    "    \n",
    "    # Tag for the number of stars\n",
    "    Star_Rating_tags = div_tags.find('span', class_ = 'a-icon-alt')\n",
    "    \n",
    "    # Tag for the number of reviews\n",
    "    Reviews_tags = div_tags.find('div', class_ = 'a-icon-row')\n",
    "    \n",
    "    return Book_Name_tags, Author_Name_tags, Book_URL, Book_Type_tags, Price_tags, Star_Rating_tags, Reviews_tags"
   ]
  },
  {
   "cell_type": "markdown",
   "id": "620eb42d",
   "metadata": {},
   "source": [
    "Let's create a dictionary to hold the list of all attribute and run for a loop to append all the values in their respective lists."
   ]
  },
  {
   "cell_type": "code",
   "execution_count": 17,
   "id": "dc310c5b",
   "metadata": {},
   "outputs": [],
   "source": [
    "books_dict = {\n",
    "    'Book_Name':[],\n",
    "    'Author_Name':[],\n",
    "    'Book_URL':[],\n",
    "    'Book_Type':[],\n",
    "    'Price':[],\n",
    "    'Star_Rating':[],\n",
    "    'Reviews':[]\n",
    "}\n",
    "\n",
    "for i in range(0, len(div_tags)):\n",
    "    info = books_info(div_tags[i])\n",
    "    \n",
    "    if info[0] is not None:\n",
    "        books_dict['Book_Name'].append(info[0].text)\n",
    "    else:\n",
    "        books_dict['Book_Name'].append('Missing')\n",
    "        \n",
    "    if info[1] is not None:\n",
    "        books_dict['Author_Name'].append(info[1].text)\n",
    "    else:\n",
    "        books_dict['Author_Name'].append('Missing')\n",
    "        \n",
    "    if info[2] is not None:\n",
    "        books_dict['Book_URL'].append(info[2])\n",
    "    else:\n",
    "        books_dict['Book_URL'].append('Missing')\n",
    "        \n",
    "    if info[3] is not None:\n",
    "        books_dict['Book_Type'].append(info[3].text)\n",
    "    else:\n",
    "        books_dict['Book_Type'].append('Missing')\n",
    "        \n",
    "    if info[4] is not None:\n",
    "        books_dict['Price'].append(info[4].text)\n",
    "    else:\n",
    "        books_dict['Price'].append('Missing')\n",
    "        \n",
    "    if info[5] is not None:\n",
    "        books_dict['Star_Rating'].append(info[5].text)\n",
    "    else:\n",
    "        books_dict['Star_Rating'].append('Missing')\n",
    "        \n",
    "    if info[6] is not None:\n",
    "        books_dict['Reviews'].append(info[6].find('span', class_ = 'a-size-small').text)\n",
    "    else:\n",
    "        books_dict['Reviews'].append('Missing')\n",
    "        "
   ]
  },
  {
   "cell_type": "markdown",
   "id": "d5781d3e",
   "metadata": {},
   "source": [
    "## Convert the extracted data to a dataframe"
   ]
  },
  {
   "cell_type": "markdown",
   "id": "03b24b03",
   "metadata": {},
   "source": [
    "Now, let's convert this dictionary to a pandas dataframe."
   ]
  },
  {
   "cell_type": "code",
   "execution_count": 18,
   "id": "9fea161f",
   "metadata": {
    "scrolled": true,
    "slideshow": {
     "slide_type": "fragment"
    }
   },
   "outputs": [
    {
     "data": {
      "text/html": [
       "<div>\n",
       "<style scoped>\n",
       "    .dataframe tbody tr th:only-of-type {\n",
       "        vertical-align: middle;\n",
       "    }\n",
       "\n",
       "    .dataframe tbody tr th {\n",
       "        vertical-align: top;\n",
       "    }\n",
       "\n",
       "    .dataframe thead th {\n",
       "        text-align: right;\n",
       "    }\n",
       "</style>\n",
       "<table border=\"1\" class=\"dataframe\">\n",
       "  <thead>\n",
       "    <tr style=\"text-align: right;\">\n",
       "      <th></th>\n",
       "      <th>Book_Name</th>\n",
       "      <th>Author_Name</th>\n",
       "      <th>Book_URL</th>\n",
       "      <th>Book_Type</th>\n",
       "      <th>Price</th>\n",
       "      <th>Star_Rating</th>\n",
       "      <th>Reviews</th>\n",
       "    </tr>\n",
       "  </thead>\n",
       "  <tbody>\n",
       "    <tr>\n",
       "      <th>0</th>\n",
       "      <td>13 Swing Trading Strategies| Pankaj Ladha | An...</td>\n",
       "      <td>Pankaj Ladha &amp; Anant Ladha</td>\n",
       "      <td>https://amazon.in/Swing-Trading-Strategies-Pan...</td>\n",
       "      <td>Paperback</td>\n",
       "      <td>₹299.00</td>\n",
       "      <td>Missing</td>\n",
       "      <td>Missing</td>\n",
       "    </tr>\n",
       "    <tr>\n",
       "      <th>1</th>\n",
       "      <td>Atomic Habits: The life-changing million copy ...</td>\n",
       "      <td>James Clear</td>\n",
       "      <td>https://amazon.in/Atomic-Habits-James-Clear/dp...</td>\n",
       "      <td>Paperback</td>\n",
       "      <td>₹593.00</td>\n",
       "      <td>4.6 out of 5 stars</td>\n",
       "      <td>38,185</td>\n",
       "    </tr>\n",
       "    <tr>\n",
       "      <th>2</th>\n",
       "      <td>My First Library: Boxset of 10 Board Books for...</td>\n",
       "      <td>Wonder House Books</td>\n",
       "      <td>https://amazon.in/My-First-Library-Boxset-Boar...</td>\n",
       "      <td>Board book</td>\n",
       "      <td>₹399.00</td>\n",
       "      <td>4.5 out of 5 stars</td>\n",
       "      <td>48,570</td>\n",
       "    </tr>\n",
       "    <tr>\n",
       "      <th>3</th>\n",
       "      <td>The Psychology of Money</td>\n",
       "      <td>Morgan Housel</td>\n",
       "      <td>https://amazon.in/Psychology-Money-Morgan-Hous...</td>\n",
       "      <td>Paperback</td>\n",
       "      <td>₹232.00</td>\n",
       "      <td>4.6 out of 5 stars</td>\n",
       "      <td>31,286</td>\n",
       "    </tr>\n",
       "    <tr>\n",
       "      <th>4</th>\n",
       "      <td>Oswaal CBSE Term 2 English Science Social Scie...</td>\n",
       "      <td>Oswaal Editorial Board</td>\n",
       "      <td>https://amazon.in/Oswaal-English-Science-Stand...</td>\n",
       "      <td>Product Bundle</td>\n",
       "      <td>₹398.00</td>\n",
       "      <td>4.6 out of 5 stars</td>\n",
       "      <td>450</td>\n",
       "    </tr>\n",
       "    <tr>\n",
       "      <th>5</th>\n",
       "      <td>Word Power Made Easy</td>\n",
       "      <td>Norman Lewis</td>\n",
       "      <td>https://amazon.in/Word-Power-Made-Norman-Lewis...</td>\n",
       "      <td>Paperback</td>\n",
       "      <td>₹98.00</td>\n",
       "      <td>4.4 out of 5 stars</td>\n",
       "      <td>36,869</td>\n",
       "    </tr>\n",
       "    <tr>\n",
       "      <th>6</th>\n",
       "      <td>Ikigai: The Japanese secret to a long and happ...</td>\n",
       "      <td>Héctor García</td>\n",
       "      <td>https://amazon.in/Ikigai-H%C3%A9ctor-Garc%C3%A...</td>\n",
       "      <td>Hardcover</td>\n",
       "      <td>₹375.26</td>\n",
       "      <td>4.6 out of 5 stars</td>\n",
       "      <td>31,146</td>\n",
       "    </tr>\n",
       "    <tr>\n",
       "      <th>7</th>\n",
       "      <td>Grandma's Bag of Stories: Collection of 20+ Il...</td>\n",
       "      <td>Sudha Murty</td>\n",
       "      <td>https://amazon.in/Grandmas-Bag-Stories-Sudha-M...</td>\n",
       "      <td>Paperback</td>\n",
       "      <td>₹155.00</td>\n",
       "      <td>4.6 out of 5 stars</td>\n",
       "      <td>13,488</td>\n",
       "    </tr>\n",
       "    <tr>\n",
       "      <th>8</th>\n",
       "      <td>Rich Dad Poor Dad: What the Rich Teach Their K...</td>\n",
       "      <td>Robert T. Kiyosaki</td>\n",
       "      <td>https://amazon.in/Rich-Dad-Poor-Middle-Updates...</td>\n",
       "      <td>Mass Market Paperback</td>\n",
       "      <td>₹339.00</td>\n",
       "      <td>4.6 out of 5 stars</td>\n",
       "      <td>57,148</td>\n",
       "    </tr>\n",
       "    <tr>\n",
       "      <th>9</th>\n",
       "      <td>27 Years UPSC IAS/ IPS Prelims Topic-wise Solv...</td>\n",
       "      <td>Mrunal Patel</td>\n",
       "      <td>https://amazon.in/Years-Prelims-Topic-wise-Sol...</td>\n",
       "      <td>Paperback</td>\n",
       "      <td>₹295.00</td>\n",
       "      <td>4.5 out of 5 stars</td>\n",
       "      <td>1,661</td>\n",
       "    </tr>\n",
       "    <tr>\n",
       "      <th>10</th>\n",
       "      <td>Educart Term 2 Class 10 Sample Papers Bundle o...</td>\n",
       "      <td>Sanjiv Sir</td>\n",
       "      <td>https://amazon.in/Educart-Science-Standard-Sub...</td>\n",
       "      <td>Product Bundle</td>\n",
       "      <td>₹424.00</td>\n",
       "      <td>4.4 out of 5 stars</td>\n",
       "      <td>433</td>\n",
       "    </tr>\n",
       "    <tr>\n",
       "      <th>11</th>\n",
       "      <td>Mathematics for Class 10 - CBSE - by R.D. Shar...</td>\n",
       "      <td>R.D. Sharma</td>\n",
       "      <td>https://amazon.in/Mathematics-Class-10-Examina...</td>\n",
       "      <td>Paperback</td>\n",
       "      <td>₹514.00</td>\n",
       "      <td>4.3 out of 5 stars</td>\n",
       "      <td>97</td>\n",
       "    </tr>\n",
       "    <tr>\n",
       "      <th>12</th>\n",
       "      <td>DO EPIC SHIT</td>\n",
       "      <td>Ankur Warikoo</td>\n",
       "      <td>https://amazon.in/DO-EPIC-SHIT-Ankur-Warikoo/d...</td>\n",
       "      <td>Hardcover</td>\n",
       "      <td>₹248.00</td>\n",
       "      <td>4.5 out of 5 stars</td>\n",
       "      <td>3,663</td>\n",
       "    </tr>\n",
       "    <tr>\n",
       "      <th>13</th>\n",
       "      <td>My First Book of Pencil Control : Practice Pat...</td>\n",
       "      <td>Wonder House Books</td>\n",
       "      <td>https://amazon.in/First-Book-Patterns-Pencil-C...</td>\n",
       "      <td>Paperback</td>\n",
       "      <td>₹89.00</td>\n",
       "      <td>4.4 out of 5 stars</td>\n",
       "      <td>16,085</td>\n",
       "    </tr>\n",
       "    <tr>\n",
       "      <th>14</th>\n",
       "      <td>Oswaal CBSE Term 2 Science Class 10 Sample Que...</td>\n",
       "      <td>Oswaal Editorial Board</td>\n",
       "      <td>https://amazon.in/Oswaal-Science-Sample-Questi...</td>\n",
       "      <td>Paperback</td>\n",
       "      <td>₹95.00</td>\n",
       "      <td>4.5 out of 5 stars</td>\n",
       "      <td>78</td>\n",
       "    </tr>\n",
       "    <tr>\n",
       "      <th>15</th>\n",
       "      <td>My First Mythology Tale (Illustrated) (Set of ...</td>\n",
       "      <td>Maple Press</td>\n",
       "      <td>https://amazon.in/First-Mythology-Tale-Illustr...</td>\n",
       "      <td>Paperback</td>\n",
       "      <td>₹170.00</td>\n",
       "      <td>4.4 out of 5 stars</td>\n",
       "      <td>3,794</td>\n",
       "    </tr>\n",
       "    <tr>\n",
       "      <th>16</th>\n",
       "      <td>101 Panchatantra Stories for Children: Colourf...</td>\n",
       "      <td>Om Books Editorial Team</td>\n",
       "      <td>https://amazon.in/101-Panchatantra-Stories-Chi...</td>\n",
       "      <td>Paperback</td>\n",
       "      <td>₹119.00</td>\n",
       "      <td>4.5 out of 5 stars</td>\n",
       "      <td>6,092</td>\n",
       "    </tr>\n",
       "    <tr>\n",
       "      <th>17</th>\n",
       "      <td>Quantitative Aptitude for Competitive Examinat...</td>\n",
       "      <td>R S Aggarwal</td>\n",
       "      <td>https://amazon.in/Quantitative-Aptitude-Compet...</td>\n",
       "      <td>Paperback</td>\n",
       "      <td>₹465.00</td>\n",
       "      <td>4.4 out of 5 stars</td>\n",
       "      <td>24,610</td>\n",
       "    </tr>\n",
       "    <tr>\n",
       "      <th>18</th>\n",
       "      <td>Oswaal CBSE Question Bank Chapterwise For Term...</td>\n",
       "      <td>Oswaal Editorial Board</td>\n",
       "      <td>https://amazon.in/Oswaal-Question-Chapterwise-...</td>\n",
       "      <td>Paperback</td>\n",
       "      <td>₹193.00</td>\n",
       "      <td>4.4 out of 5 stars</td>\n",
       "      <td>271</td>\n",
       "    </tr>\n",
       "    <tr>\n",
       "      <th>19</th>\n",
       "      <td>The Power of Your Subconscious Mind</td>\n",
       "      <td>Joseph Murphy</td>\n",
       "      <td>https://amazon.in/Power-Your-Subconscious-Mind...</td>\n",
       "      <td>Paperback</td>\n",
       "      <td>₹125.00</td>\n",
       "      <td>4.5 out of 5 stars</td>\n",
       "      <td>51,281</td>\n",
       "    </tr>\n",
       "    <tr>\n",
       "      <th>20</th>\n",
       "      <td>Oswaal CBSE Term 2 Mathematics Standard Class ...</td>\n",
       "      <td>Oswaal Editorial Board</td>\n",
       "      <td>https://amazon.in/Oswaal-Mathematics-Standard-...</td>\n",
       "      <td>Paperback</td>\n",
       "      <td>₹104.00</td>\n",
       "      <td>4.4 out of 5 stars</td>\n",
       "      <td>95</td>\n",
       "    </tr>\n",
       "    <tr>\n",
       "      <th>21</th>\n",
       "      <td>As a Man Thinketh</td>\n",
       "      <td>James Allen</td>\n",
       "      <td>https://amazon.in/As-Man-Thinketh-James-Allen/...</td>\n",
       "      <td>Paperback</td>\n",
       "      <td>₹69.00</td>\n",
       "      <td>4.4 out of 5 stars</td>\n",
       "      <td>7,702</td>\n",
       "    </tr>\n",
       "    <tr>\n",
       "      <th>22</th>\n",
       "      <td>How to Win Friends and Influence People</td>\n",
       "      <td>Dale Carnegie</td>\n",
       "      <td>https://amazon.in/How-Win-Friends-Influence-Pe...</td>\n",
       "      <td>Paperback</td>\n",
       "      <td>₹84.93</td>\n",
       "      <td>4.5 out of 5 stars</td>\n",
       "      <td>64,437</td>\n",
       "    </tr>\n",
       "    <tr>\n",
       "      <th>23</th>\n",
       "      <td>Best of Children’s Classics (Set of 5 Books): ...</td>\n",
       "      <td>Antoine de Saint-Exupéry</td>\n",
       "      <td>https://amazon.in/Best-Childrens-Classics-Set-...</td>\n",
       "      <td>Paperback</td>\n",
       "      <td>₹487.00</td>\n",
       "      <td>4.4 out of 5 stars</td>\n",
       "      <td>3,719</td>\n",
       "    </tr>\n",
       "    <tr>\n",
       "      <th>24</th>\n",
       "      <td>Indian Polity ( English| 6th Revised Edition) ...</td>\n",
       "      <td>M Laxmikanth</td>\n",
       "      <td>https://amazon.in/Indian-English-Revised-Servi...</td>\n",
       "      <td>Paperback</td>\n",
       "      <td>₹619.00</td>\n",
       "      <td>4.4 out of 5 stars</td>\n",
       "      <td>1,061</td>\n",
       "    </tr>\n",
       "    <tr>\n",
       "      <th>25</th>\n",
       "      <td>Attitude Is Everything: Change Your Attitude ....</td>\n",
       "      <td>Jeff Keller</td>\n",
       "      <td>https://amazon.in/Attitude-Everything-Change-Y...</td>\n",
       "      <td>Paperback</td>\n",
       "      <td>₹125.00</td>\n",
       "      <td>4.5 out of 5 stars</td>\n",
       "      <td>17,234</td>\n",
       "    </tr>\n",
       "    <tr>\n",
       "      <th>26</th>\n",
       "      <td>Very First Sight Words Sentences Level 1</td>\n",
       "      <td>Dreamland Publications</td>\n",
       "      <td>https://amazon.in/First-Sight-Words-Sentences-...</td>\n",
       "      <td>Paperback</td>\n",
       "      <td>₹156.00</td>\n",
       "      <td>4.5 out of 5 stars</td>\n",
       "      <td>9,207</td>\n",
       "    </tr>\n",
       "    <tr>\n",
       "      <th>27</th>\n",
       "      <td>T.S. Grewal's Double Entry Book Keeping: Accou...</td>\n",
       "      <td>T.S. Grewal</td>\n",
       "      <td>https://amazon.in/Grewals-Double-Entry-Keeping...</td>\n",
       "      <td>Paperback</td>\n",
       "      <td>₹455.00</td>\n",
       "      <td>4.4 out of 5 stars</td>\n",
       "      <td>20</td>\n",
       "    </tr>\n",
       "    <tr>\n",
       "      <th>28</th>\n",
       "      <td>It Ends With Us: A Novel: Volume 1</td>\n",
       "      <td>Colleen Hoover</td>\n",
       "      <td>https://amazon.in/Ends-Us-Novel-Colleen-Hoover...</td>\n",
       "      <td>Paperback</td>\n",
       "      <td>₹155.00</td>\n",
       "      <td>4.6 out of 5 stars</td>\n",
       "      <td>52,921</td>\n",
       "    </tr>\n",
       "    <tr>\n",
       "      <th>29</th>\n",
       "      <td>CBSE All In One Social Science Class 10 2022-2...</td>\n",
       "      <td>Madhumita Pattrea</td>\n",
       "      <td>https://amazon.in/CBSE-Social-Science-Class-20...</td>\n",
       "      <td>Paperback</td>\n",
       "      <td>₹382.00</td>\n",
       "      <td>4.4 out of 5 stars</td>\n",
       "      <td>6</td>\n",
       "    </tr>\n",
       "    <tr>\n",
       "      <th>30</th>\n",
       "      <td>Combo Pack: Lakhmir Singh Class 10 Science (Bi...</td>\n",
       "      <td>Manjit Kaur; Lakhmir Singh</td>\n",
       "      <td>https://amazon.in/Combo-Pack-Lakhmir-Chemistry...</td>\n",
       "      <td>Paperback</td>\n",
       "      <td>₹1,150.00</td>\n",
       "      <td>4.4 out of 5 stars</td>\n",
       "      <td>41</td>\n",
       "    </tr>\n",
       "    <tr>\n",
       "      <th>31</th>\n",
       "      <td>Moral Story Books for Kids (Pack of 10 Books) ...</td>\n",
       "      <td>Young Angels Publishing</td>\n",
       "      <td>https://amazon.in/Moral-Story-Books-Illustrate...</td>\n",
       "      <td>Paperback</td>\n",
       "      <td>₹240.00</td>\n",
       "      <td>4.3 out of 5 stars</td>\n",
       "      <td>4,185</td>\n",
       "    </tr>\n",
       "    <tr>\n",
       "      <th>32</th>\n",
       "      <td>Picture Books Collection for Early Learning (S...</td>\n",
       "      <td>E C Axus</td>\n",
       "      <td>https://amazon.in/Picture-Books-Collection-Ear...</td>\n",
       "      <td>Cards</td>\n",
       "      <td>₹228.00</td>\n",
       "      <td>4.3 out of 5 stars</td>\n",
       "      <td>14,741</td>\n",
       "    </tr>\n",
       "    <tr>\n",
       "      <th>33</th>\n",
       "      <td>MTG Objective NCERT at your FINGERTIPS - Biolo...</td>\n",
       "      <td>MTG Editorial Board</td>\n",
       "      <td>https://amazon.in/MTG-Objective-NCERT-your-FIN...</td>\n",
       "      <td>Paperback</td>\n",
       "      <td>₹549.00</td>\n",
       "      <td>4.6 out of 5 stars</td>\n",
       "      <td>7,923</td>\n",
       "    </tr>\n",
       "    <tr>\n",
       "      <th>34</th>\n",
       "      <td>Tuesdays With Morrie: An old man, a young man,...</td>\n",
       "      <td>Mitch Albom</td>\n",
       "      <td>https://amazon.in/Tuesdays-Morrie-young-greate...</td>\n",
       "      <td>Paperback</td>\n",
       "      <td>₹206.00</td>\n",
       "      <td>4.6 out of 5 stars</td>\n",
       "      <td>13,718</td>\n",
       "    </tr>\n",
       "    <tr>\n",
       "      <th>35</th>\n",
       "      <td>The Almanack Of Naval Ravikant: A Guide to Wea...</td>\n",
       "      <td>Eric Jorgenson</td>\n",
       "      <td>https://amazon.in/Almanack-Naval-Ravikant-Weal...</td>\n",
       "      <td>Paperback</td>\n",
       "      <td>₹210.00</td>\n",
       "      <td>4.7 out of 5 stars</td>\n",
       "      <td>4,728</td>\n",
       "    </tr>\n",
       "    <tr>\n",
       "      <th>36</th>\n",
       "      <td>Brain Activity Book for Kids - 200+ Activities...</td>\n",
       "      <td>Maple Press</td>\n",
       "      <td>https://amazon.in/Brain-Activity-Book-Kids-Act...</td>\n",
       "      <td>Paperback</td>\n",
       "      <td>₹76.00</td>\n",
       "      <td>4.5 out of 5 stars</td>\n",
       "      <td>427</td>\n",
       "    </tr>\n",
       "    <tr>\n",
       "      <th>37</th>\n",
       "      <td>India that is Bharat: Coloniality, Civilisatio...</td>\n",
       "      <td>J Sai Deepak</td>\n",
       "      <td>https://amazon.in/India-that-Bharat-Civilisati...</td>\n",
       "      <td>Hardcover</td>\n",
       "      <td>₹499.00</td>\n",
       "      <td>4.8 out of 5 stars</td>\n",
       "      <td>3,150</td>\n",
       "    </tr>\n",
       "    <tr>\n",
       "      <th>38</th>\n",
       "      <td>The Courage To Be Disliked: How to free yourse...</td>\n",
       "      <td>Ichiro Kishimi and Fumitake Koga</td>\n",
       "      <td>https://amazon.in/Courage-Disliked-Ichiro-Kish...</td>\n",
       "      <td>Hardcover</td>\n",
       "      <td>₹324.00</td>\n",
       "      <td>4.5 out of 5 stars</td>\n",
       "      <td>2,608</td>\n",
       "    </tr>\n",
       "    <tr>\n",
       "      <th>39</th>\n",
       "      <td>World’s Greatest Books For Personal Growth &amp; W...</td>\n",
       "      <td>Dale Carnegie</td>\n",
       "      <td>https://amazon.in/Worlds-Greatest-Personal-Gro...</td>\n",
       "      <td>Paperback</td>\n",
       "      <td>₹299.00</td>\n",
       "      <td>4.5 out of 5 stars</td>\n",
       "      <td>18,183</td>\n",
       "    </tr>\n",
       "    <tr>\n",
       "      <th>40</th>\n",
       "      <td>Writing Practice Boxset: Pack of 4 Books (Writ...</td>\n",
       "      <td>Wonder House Books</td>\n",
       "      <td>https://amazon.in/Writing-Fun-Set-Books-Practi...</td>\n",
       "      <td>Paperback</td>\n",
       "      <td>₹159.00</td>\n",
       "      <td>4.3 out of 5 stars</td>\n",
       "      <td>8,532</td>\n",
       "    </tr>\n",
       "    <tr>\n",
       "      <th>41</th>\n",
       "      <td>Karma: A Yogi's Guide to Crafting Your Destiny...</td>\n",
       "      <td>Sadhguru</td>\n",
       "      <td>https://amazon.in/Karma-PUBLISHERS-BESTSELLER-...</td>\n",
       "      <td>Paperback</td>\n",
       "      <td>₹208.36</td>\n",
       "      <td>4.7 out of 5 stars</td>\n",
       "      <td>8,136</td>\n",
       "    </tr>\n",
       "    <tr>\n",
       "      <th>42</th>\n",
       "      <td>The Alchemist</td>\n",
       "      <td>Paulo Coelho</td>\n",
       "      <td>https://amazon.in/Alchemist-Paulo-Coelho/dp/81...</td>\n",
       "      <td>Paperback</td>\n",
       "      <td>₹250.00</td>\n",
       "      <td>4.6 out of 5 stars</td>\n",
       "      <td>73,362</td>\n",
       "    </tr>\n",
       "    <tr>\n",
       "      <th>43</th>\n",
       "      <td>Oswaal CBSE Question Bank Chapterwise For Term...</td>\n",
       "      <td>Oswaal Editorial Board</td>\n",
       "      <td>https://amazon.in/Oswaal-Question-Chapterwise-...</td>\n",
       "      <td>Paperback</td>\n",
       "      <td>₹190.00</td>\n",
       "      <td>4.4 out of 5 stars</td>\n",
       "      <td>243</td>\n",
       "    </tr>\n",
       "    <tr>\n",
       "      <th>44</th>\n",
       "      <td>CBSE All In One English Core Class 12 2022-23 ...</td>\n",
       "      <td>Nandini Sharma Srishti Agarwal</td>\n",
       "      <td>https://amazon.in/CBSE-English-Core-Class-2022...</td>\n",
       "      <td>Paperback</td>\n",
       "      <td>₹381.00</td>\n",
       "      <td>3.9 out of 5 stars</td>\n",
       "      <td>6</td>\n",
       "    </tr>\n",
       "    <tr>\n",
       "      <th>45</th>\n",
       "      <td>Oswal - Gurukul 36 Sample Question Papers Comm...</td>\n",
       "      <td>Oswal - Gurukul</td>\n",
       "      <td>https://amazon.in/Oswal-Accountancy-Economics-...</td>\n",
       "      <td>Paperback</td>\n",
       "      <td>₹309.00</td>\n",
       "      <td>4.4 out of 5 stars</td>\n",
       "      <td>27</td>\n",
       "    </tr>\n",
       "    <tr>\n",
       "      <th>46</th>\n",
       "      <td>Great Stories for Children</td>\n",
       "      <td>Ruskin Bond</td>\n",
       "      <td>https://amazon.in/Great-Stories-Children-Ruski...</td>\n",
       "      <td>Paperback</td>\n",
       "      <td>₹122.00</td>\n",
       "      <td>4.5 out of 5 stars</td>\n",
       "      <td>9,204</td>\n",
       "    </tr>\n",
       "    <tr>\n",
       "      <th>47</th>\n",
       "      <td>Life's Amazing Secrets: How to Find Balance an...</td>\n",
       "      <td>Gaur Gopal Das</td>\n",
       "      <td>https://amazon.in/Lifes-Amazing-Secrets-Balanc...</td>\n",
       "      <td>Paperback</td>\n",
       "      <td>₹175.00</td>\n",
       "      <td>4.6 out of 5 stars</td>\n",
       "      <td>14,924</td>\n",
       "    </tr>\n",
       "    <tr>\n",
       "      <th>48</th>\n",
       "      <td>CBSE All In One English Language &amp; Literature ...</td>\n",
       "      <td>Srishti Agarwal</td>\n",
       "      <td>https://amazon.in/English-Language-Literature-...</td>\n",
       "      <td>Paperback</td>\n",
       "      <td>₹360.00</td>\n",
       "      <td>4.6 out of 5 stars</td>\n",
       "      <td>7</td>\n",
       "    </tr>\n",
       "    <tr>\n",
       "      <th>49</th>\n",
       "      <td>Tiger of Drass: Capt. Anuj Nayyar, 23, Kargil ...</td>\n",
       "      <td>Meena Nayyar</td>\n",
       "      <td>https://amazon.in/Tiger-Drass-Capt-Nayyar-Karg...</td>\n",
       "      <td>Paperback</td>\n",
       "      <td>₹195.00</td>\n",
       "      <td>4.9 out of 5 stars</td>\n",
       "      <td>54</td>\n",
       "    </tr>\n",
       "  </tbody>\n",
       "</table>\n",
       "</div>"
      ],
      "text/plain": [
       "                                            Book_Name  \\\n",
       "0   13 Swing Trading Strategies| Pankaj Ladha | An...   \n",
       "1   Atomic Habits: The life-changing million copy ...   \n",
       "2   My First Library: Boxset of 10 Board Books for...   \n",
       "3                             The Psychology of Money   \n",
       "4   Oswaal CBSE Term 2 English Science Social Scie...   \n",
       "5                                Word Power Made Easy   \n",
       "6   Ikigai: The Japanese secret to a long and happ...   \n",
       "7   Grandma's Bag of Stories: Collection of 20+ Il...   \n",
       "8   Rich Dad Poor Dad: What the Rich Teach Their K...   \n",
       "9   27 Years UPSC IAS/ IPS Prelims Topic-wise Solv...   \n",
       "10  Educart Term 2 Class 10 Sample Papers Bundle o...   \n",
       "11  Mathematics for Class 10 - CBSE - by R.D. Shar...   \n",
       "12                                       DO EPIC SHIT   \n",
       "13  My First Book of Pencil Control : Practice Pat...   \n",
       "14  Oswaal CBSE Term 2 Science Class 10 Sample Que...   \n",
       "15  My First Mythology Tale (Illustrated) (Set of ...   \n",
       "16  101 Panchatantra Stories for Children: Colourf...   \n",
       "17  Quantitative Aptitude for Competitive Examinat...   \n",
       "18  Oswaal CBSE Question Bank Chapterwise For Term...   \n",
       "19                The Power of Your Subconscious Mind   \n",
       "20  Oswaal CBSE Term 2 Mathematics Standard Class ...   \n",
       "21                                  As a Man Thinketh   \n",
       "22            How to Win Friends and Influence People   \n",
       "23  Best of Children’s Classics (Set of 5 Books): ...   \n",
       "24  Indian Polity ( English| 6th Revised Edition) ...   \n",
       "25  Attitude Is Everything: Change Your Attitude ....   \n",
       "26           Very First Sight Words Sentences Level 1   \n",
       "27  T.S. Grewal's Double Entry Book Keeping: Accou...   \n",
       "28                 It Ends With Us: A Novel: Volume 1   \n",
       "29  CBSE All In One Social Science Class 10 2022-2...   \n",
       "30  Combo Pack: Lakhmir Singh Class 10 Science (Bi...   \n",
       "31  Moral Story Books for Kids (Pack of 10 Books) ...   \n",
       "32  Picture Books Collection for Early Learning (S...   \n",
       "33  MTG Objective NCERT at your FINGERTIPS - Biolo...   \n",
       "34  Tuesdays With Morrie: An old man, a young man,...   \n",
       "35  The Almanack Of Naval Ravikant: A Guide to Wea...   \n",
       "36  Brain Activity Book for Kids - 200+ Activities...   \n",
       "37  India that is Bharat: Coloniality, Civilisatio...   \n",
       "38  The Courage To Be Disliked: How to free yourse...   \n",
       "39  World’s Greatest Books For Personal Growth & W...   \n",
       "40  Writing Practice Boxset: Pack of 4 Books (Writ...   \n",
       "41  Karma: A Yogi's Guide to Crafting Your Destiny...   \n",
       "42                                      The Alchemist   \n",
       "43  Oswaal CBSE Question Bank Chapterwise For Term...   \n",
       "44  CBSE All In One English Core Class 12 2022-23 ...   \n",
       "45  Oswal - Gurukul 36 Sample Question Papers Comm...   \n",
       "46                         Great Stories for Children   \n",
       "47  Life's Amazing Secrets: How to Find Balance an...   \n",
       "48  CBSE All In One English Language & Literature ...   \n",
       "49  Tiger of Drass: Capt. Anuj Nayyar, 23, Kargil ...   \n",
       "\n",
       "                         Author_Name  \\\n",
       "0         Pankaj Ladha & Anant Ladha   \n",
       "1                        James Clear   \n",
       "2                 Wonder House Books   \n",
       "3                      Morgan Housel   \n",
       "4             Oswaal Editorial Board   \n",
       "5                       Norman Lewis   \n",
       "6                      Héctor García   \n",
       "7                        Sudha Murty   \n",
       "8                 Robert T. Kiyosaki   \n",
       "9                       Mrunal Patel   \n",
       "10                        Sanjiv Sir   \n",
       "11                       R.D. Sharma   \n",
       "12                     Ankur Warikoo   \n",
       "13                Wonder House Books   \n",
       "14            Oswaal Editorial Board   \n",
       "15                       Maple Press   \n",
       "16           Om Books Editorial Team   \n",
       "17                      R S Aggarwal   \n",
       "18            Oswaal Editorial Board   \n",
       "19                     Joseph Murphy   \n",
       "20            Oswaal Editorial Board   \n",
       "21                       James Allen   \n",
       "22                     Dale Carnegie   \n",
       "23          Antoine de Saint-Exupéry   \n",
       "24                      M Laxmikanth   \n",
       "25                       Jeff Keller   \n",
       "26            Dreamland Publications   \n",
       "27                       T.S. Grewal   \n",
       "28                    Colleen Hoover   \n",
       "29                 Madhumita Pattrea   \n",
       "30        Manjit Kaur; Lakhmir Singh   \n",
       "31           Young Angels Publishing   \n",
       "32                          E C Axus   \n",
       "33               MTG Editorial Board   \n",
       "34                       Mitch Albom   \n",
       "35                    Eric Jorgenson   \n",
       "36                       Maple Press   \n",
       "37                      J Sai Deepak   \n",
       "38  Ichiro Kishimi and Fumitake Koga   \n",
       "39                     Dale Carnegie   \n",
       "40                Wonder House Books   \n",
       "41                          Sadhguru   \n",
       "42                      Paulo Coelho   \n",
       "43            Oswaal Editorial Board   \n",
       "44    Nandini Sharma Srishti Agarwal   \n",
       "45                   Oswal - Gurukul   \n",
       "46                       Ruskin Bond   \n",
       "47                    Gaur Gopal Das   \n",
       "48                   Srishti Agarwal   \n",
       "49                      Meena Nayyar   \n",
       "\n",
       "                                             Book_URL              Book_Type  \\\n",
       "0   https://amazon.in/Swing-Trading-Strategies-Pan...              Paperback   \n",
       "1   https://amazon.in/Atomic-Habits-James-Clear/dp...              Paperback   \n",
       "2   https://amazon.in/My-First-Library-Boxset-Boar...             Board book   \n",
       "3   https://amazon.in/Psychology-Money-Morgan-Hous...              Paperback   \n",
       "4   https://amazon.in/Oswaal-English-Science-Stand...         Product Bundle   \n",
       "5   https://amazon.in/Word-Power-Made-Norman-Lewis...              Paperback   \n",
       "6   https://amazon.in/Ikigai-H%C3%A9ctor-Garc%C3%A...              Hardcover   \n",
       "7   https://amazon.in/Grandmas-Bag-Stories-Sudha-M...              Paperback   \n",
       "8   https://amazon.in/Rich-Dad-Poor-Middle-Updates...  Mass Market Paperback   \n",
       "9   https://amazon.in/Years-Prelims-Topic-wise-Sol...              Paperback   \n",
       "10  https://amazon.in/Educart-Science-Standard-Sub...         Product Bundle   \n",
       "11  https://amazon.in/Mathematics-Class-10-Examina...              Paperback   \n",
       "12  https://amazon.in/DO-EPIC-SHIT-Ankur-Warikoo/d...              Hardcover   \n",
       "13  https://amazon.in/First-Book-Patterns-Pencil-C...              Paperback   \n",
       "14  https://amazon.in/Oswaal-Science-Sample-Questi...              Paperback   \n",
       "15  https://amazon.in/First-Mythology-Tale-Illustr...              Paperback   \n",
       "16  https://amazon.in/101-Panchatantra-Stories-Chi...              Paperback   \n",
       "17  https://amazon.in/Quantitative-Aptitude-Compet...              Paperback   \n",
       "18  https://amazon.in/Oswaal-Question-Chapterwise-...              Paperback   \n",
       "19  https://amazon.in/Power-Your-Subconscious-Mind...              Paperback   \n",
       "20  https://amazon.in/Oswaal-Mathematics-Standard-...              Paperback   \n",
       "21  https://amazon.in/As-Man-Thinketh-James-Allen/...              Paperback   \n",
       "22  https://amazon.in/How-Win-Friends-Influence-Pe...              Paperback   \n",
       "23  https://amazon.in/Best-Childrens-Classics-Set-...              Paperback   \n",
       "24  https://amazon.in/Indian-English-Revised-Servi...              Paperback   \n",
       "25  https://amazon.in/Attitude-Everything-Change-Y...              Paperback   \n",
       "26  https://amazon.in/First-Sight-Words-Sentences-...              Paperback   \n",
       "27  https://amazon.in/Grewals-Double-Entry-Keeping...              Paperback   \n",
       "28  https://amazon.in/Ends-Us-Novel-Colleen-Hoover...              Paperback   \n",
       "29  https://amazon.in/CBSE-Social-Science-Class-20...              Paperback   \n",
       "30  https://amazon.in/Combo-Pack-Lakhmir-Chemistry...              Paperback   \n",
       "31  https://amazon.in/Moral-Story-Books-Illustrate...              Paperback   \n",
       "32  https://amazon.in/Picture-Books-Collection-Ear...                  Cards   \n",
       "33  https://amazon.in/MTG-Objective-NCERT-your-FIN...              Paperback   \n",
       "34  https://amazon.in/Tuesdays-Morrie-young-greate...              Paperback   \n",
       "35  https://amazon.in/Almanack-Naval-Ravikant-Weal...              Paperback   \n",
       "36  https://amazon.in/Brain-Activity-Book-Kids-Act...              Paperback   \n",
       "37  https://amazon.in/India-that-Bharat-Civilisati...              Hardcover   \n",
       "38  https://amazon.in/Courage-Disliked-Ichiro-Kish...              Hardcover   \n",
       "39  https://amazon.in/Worlds-Greatest-Personal-Gro...              Paperback   \n",
       "40  https://amazon.in/Writing-Fun-Set-Books-Practi...              Paperback   \n",
       "41  https://amazon.in/Karma-PUBLISHERS-BESTSELLER-...              Paperback   \n",
       "42  https://amazon.in/Alchemist-Paulo-Coelho/dp/81...              Paperback   \n",
       "43  https://amazon.in/Oswaal-Question-Chapterwise-...              Paperback   \n",
       "44  https://amazon.in/CBSE-English-Core-Class-2022...              Paperback   \n",
       "45  https://amazon.in/Oswal-Accountancy-Economics-...              Paperback   \n",
       "46  https://amazon.in/Great-Stories-Children-Ruski...              Paperback   \n",
       "47  https://amazon.in/Lifes-Amazing-Secrets-Balanc...              Paperback   \n",
       "48  https://amazon.in/English-Language-Literature-...              Paperback   \n",
       "49  https://amazon.in/Tiger-Drass-Capt-Nayyar-Karg...              Paperback   \n",
       "\n",
       "        Price         Star_Rating  Reviews  \n",
       "0     ₹299.00             Missing  Missing  \n",
       "1     ₹593.00  4.6 out of 5 stars   38,185  \n",
       "2     ₹399.00  4.5 out of 5 stars   48,570  \n",
       "3     ₹232.00  4.6 out of 5 stars   31,286  \n",
       "4     ₹398.00  4.6 out of 5 stars      450  \n",
       "5      ₹98.00  4.4 out of 5 stars   36,869  \n",
       "6     ₹375.26  4.6 out of 5 stars   31,146  \n",
       "7     ₹155.00  4.6 out of 5 stars   13,488  \n",
       "8     ₹339.00  4.6 out of 5 stars   57,148  \n",
       "9     ₹295.00  4.5 out of 5 stars    1,661  \n",
       "10    ₹424.00  4.4 out of 5 stars      433  \n",
       "11    ₹514.00  4.3 out of 5 stars       97  \n",
       "12    ₹248.00  4.5 out of 5 stars    3,663  \n",
       "13     ₹89.00  4.4 out of 5 stars   16,085  \n",
       "14     ₹95.00  4.5 out of 5 stars       78  \n",
       "15    ₹170.00  4.4 out of 5 stars    3,794  \n",
       "16    ₹119.00  4.5 out of 5 stars    6,092  \n",
       "17    ₹465.00  4.4 out of 5 stars   24,610  \n",
       "18    ₹193.00  4.4 out of 5 stars      271  \n",
       "19    ₹125.00  4.5 out of 5 stars   51,281  \n",
       "20    ₹104.00  4.4 out of 5 stars       95  \n",
       "21     ₹69.00  4.4 out of 5 stars    7,702  \n",
       "22     ₹84.93  4.5 out of 5 stars   64,437  \n",
       "23    ₹487.00  4.4 out of 5 stars    3,719  \n",
       "24    ₹619.00  4.4 out of 5 stars    1,061  \n",
       "25    ₹125.00  4.5 out of 5 stars   17,234  \n",
       "26    ₹156.00  4.5 out of 5 stars    9,207  \n",
       "27    ₹455.00  4.4 out of 5 stars       20  \n",
       "28    ₹155.00  4.6 out of 5 stars   52,921  \n",
       "29    ₹382.00  4.4 out of 5 stars        6  \n",
       "30  ₹1,150.00  4.4 out of 5 stars       41  \n",
       "31    ₹240.00  4.3 out of 5 stars    4,185  \n",
       "32    ₹228.00  4.3 out of 5 stars   14,741  \n",
       "33    ₹549.00  4.6 out of 5 stars    7,923  \n",
       "34    ₹206.00  4.6 out of 5 stars   13,718  \n",
       "35    ₹210.00  4.7 out of 5 stars    4,728  \n",
       "36     ₹76.00  4.5 out of 5 stars      427  \n",
       "37    ₹499.00  4.8 out of 5 stars    3,150  \n",
       "38    ₹324.00  4.5 out of 5 stars    2,608  \n",
       "39    ₹299.00  4.5 out of 5 stars   18,183  \n",
       "40    ₹159.00  4.3 out of 5 stars    8,532  \n",
       "41    ₹208.36  4.7 out of 5 stars    8,136  \n",
       "42    ₹250.00  4.6 out of 5 stars   73,362  \n",
       "43    ₹190.00  4.4 out of 5 stars      243  \n",
       "44    ₹381.00  3.9 out of 5 stars        6  \n",
       "45    ₹309.00  4.4 out of 5 stars       27  \n",
       "46    ₹122.00  4.5 out of 5 stars    9,204  \n",
       "47    ₹175.00  4.6 out of 5 stars   14,924  \n",
       "48    ₹360.00  4.6 out of 5 stars        7  \n",
       "49    ₹195.00  4.9 out of 5 stars       54  "
      ]
     },
     "execution_count": 18,
     "metadata": {},
     "output_type": "execute_result"
    }
   ],
   "source": [
    "books_df = pd.DataFrame(books_dict)\n",
    "books_df"
   ]
  },
  {
   "cell_type": "markdown",
   "id": "d0402f5f",
   "metadata": {},
   "source": [
    "### Create a csv file with the extracted information"
   ]
  },
  {
   "cell_type": "markdown",
   "id": "dc979fa8",
   "metadata": {},
   "source": [
    "Now, finally save the dataframe to a csv formate."
   ]
  },
  {
   "cell_type": "code",
   "execution_count": 20,
   "id": "c0228df6",
   "metadata": {},
   "outputs": [],
   "source": [
    "books_df.to_csv('amazon_books.csv', index = None)"
   ]
  },
  {
   "cell_type": "markdown",
   "id": "a9494882",
   "metadata": {},
   "source": [
    "**We are done with this web scrapping project.**\n",
    "\n",
    "**Happy Coding :)**\n",
    "\n",
    "**Author** - **Ashish Kumar**\n",
    "\n",
    "**Date** - **13 April 2021**"
   ]
  }
 ],
 "metadata": {
  "kernelspec": {
   "display_name": "Python 3",
   "language": "python",
   "name": "python3"
  },
  "language_info": {
   "codemirror_mode": {
    "name": "ipython",
    "version": 3
   },
   "file_extension": ".py",
   "mimetype": "text/x-python",
   "name": "python",
   "nbconvert_exporter": "python",
   "pygments_lexer": "ipython3",
   "version": "3.8.8"
  },
  "toc": {
   "base_numbering": 1,
   "nav_menu": {},
   "number_sections": true,
   "sideBar": true,
   "skip_h1_title": false,
   "title_cell": "Table of Contents",
   "title_sidebar": "Contents",
   "toc_cell": false,
   "toc_position": {},
   "toc_section_display": true,
   "toc_window_display": false
  }
 },
 "nbformat": 4,
 "nbformat_minor": 5
}
